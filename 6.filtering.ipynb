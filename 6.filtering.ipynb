{
 "cells": [
  {
   "cell_type": "markdown",
   "id": "d79698dc-62e1-4f1a-9baf-ff41b3ead17d",
   "metadata": {
    "editable": true,
    "slideshow": {
     "slide_type": ""
    },
    "tags": []
   },
   "source": [
    "# Image Filtering\n",
    "We are now going to move on from spatial transformations to talk about image filtering. We are not going to spend as mutch time on filtering because spatial transformations are both more common and are also the source of more errors compare to filtering. That being said, filtering is still frequently used and discussing it here will allow us to first approach topics such as convolution, which will come in handy later in the course.\n",
    "\n",
    "We will be mainly discussing filters in their most intuitive form within the spatial domain. This means we are dealing with methods that directly change the voxel values of the image. We will introduce the idea of filters within the frequency domain a little later on, for those who would like a slightly different perspective. However, the main point is to understand how filters can be applied spatially to an image. \n",
    "\n",
    "## Kernels\n",
    "The key to understanding how image filtering works is to understand the concept of a *kernel*. A kernel is a small matrix used to weight the voxel values to produce new values in an image. The idea is that we slide the kernel across the image and then calculate a new value for the voxel the kernel is *centred* on, using all the voxels the kernel is covering. \n",
    "\n",
    "As an example, we are going to use a Gaussian kernel, which is used in neuroimaging to *smooth* or *blur* images. Smoothing is a technique to reduce noise in an image because the Gaussian kernel performs a weighted averaging of neighbouring voxels. This means that random noise across voxels will tend to cancel-out, whereas values that are consistent across voxels will tend to remain. An example of a 3 x 3 Gaussian kernel is shown below\n",
    "\n",
    "$$\n",
    "\\mathbf{K} = \n",
    "\\begin{bmatrix}\n",
    "\\frac{1}{16} & \\frac{1}{8} & \\frac{1}{16} \\\\\n",
    "\\frac{1}{8}  & \\frac{1}{4} & \\frac{1}{8}  \\\\\n",
    "\\frac{1}{16} & \\frac{1}{8} & \\frac{1}{16}\n",
    "\\end{bmatrix}.\n",
    "$$\n",
    "\n",
    "The values in the kernel are derived from a Gaussian distribution (also known as the *normal* distribution), which is easier to see when visualised in 3D, as shown in {numref}`gauss-kern-fig` for a $17 \\times 17$  kernel.\n",
    "\n",
    "```{figure} images/gauss-kern.png\n",
    "---\n",
    "width: 500px\n",
    "name: gauss-kern-fig\n",
    "---\n",
    "Illustration of a $17 \\times 17$ Gaussian kernel.\n",
    "```\n",
    "\n",
    "Note that the *width* of a normal distribution is usually controlled by its *standard deviation* (represented by $\\sigma$). In neuroimaging, however, it is more typical to talk about the *Full Width at Half Maximum* (FWHM) value in the context of a smoothing kernel. This value gives the number of voxels the kernel covers at half its height, as illustrated in {numref}``. Parameterising the kernel in this fashion means we can think about the coverage of the kernel more intuitively in terms of voxels. The standard deviation and FWHM are connected, as shown by the formula \n",
    "\n",
    "$$\n",
    "\\text{FWHM} = 2\\sqrt{2\\ln{2}}\\sigma \\approx 2.355 \\sigma.\n",
    "$$\n",
    "\n",
    "You do not need to memorise this, but it is just useful to know that the two concepts are connected. \n",
    "\n",
    "```{figure} images/FWHM.png\n",
    "---\n",
    "width: 500px\n",
    "name: FWHM-fig\n",
    "---\n",
    "Illustration of how the FWHM is defined in terms of a Gaussian distribution.\n",
    "```\n",
    "\n",
    "## Convolution\n",
    "\n",
    "## Filters in the Frequency Domain\n",
    "It is also possible to view filters within the *frequency*-domain. Here, we think about how filters affect both high-frequency and low-frequency spatial information ... This perspective is not all that important for our current purpose, but can be an interesting alternative conceptualisation of how image filters work. This is described in more detail within the advanced drop-down menu below.\n",
    "\n",
    "## Smoothing in SPM"
   ]
  },
  {
   "cell_type": "markdown",
   "id": "662d4310-d707-4d79-bee5-dab13e61cfbb",
   "metadata": {},
   "source": [
    "<div style=\"max-width: 1280px\"><div style=\"position: relative; padding-bottom: 56.25%; height: 0; overflow: hidden;\"><iframe src=\"https://livemanchesterac.sharepoint.com/sites/UOM-FBMH-MSc-NCCN/_layouts/15/embed.aspx?UniqueId=f0c1d6dc-a9a5-49fe-a08d-ae4d1c7aee5e&embed=%7B%22hvm%22%3Atrue%2C%22ust%22%3Atrue%7D&referrer=StreamWebApp&referrerScenario=EmbedDialog.Create\" width=\"1280\" height=\"720\" frameborder=\"0\" scrolling=\"no\" allowfullscreen title=\"SPM-Smoothing.mov\" style=\"border:none; position: absolute; top: 0; left: 0; right: 0; bottom: 0; height: 100%; max-width: 100%;\"></iframe></div></div>"
   ]
  },
  {
   "cell_type": "code",
   "execution_count": null,
   "id": "d74f2244-6de1-4b02-baaf-8953a99460fc",
   "metadata": {},
   "outputs": [],
   "source": []
  }
 ],
 "metadata": {
  "kernelspec": {
   "display_name": "MATLAB Kernel",
   "language": "matlab",
   "name": "jupyter_matlab_kernel"
  },
  "language_info": {
   "file_extension": ".m",
   "mimetype": "text/x-matlab",
   "name": "matlab"
  }
 },
 "nbformat": 4,
 "nbformat_minor": 5
}
