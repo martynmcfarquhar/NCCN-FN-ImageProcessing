{
 "cells": [
  {
   "cell_type": "markdown",
   "id": "8a6b3fd6-1753-45e7-a920-fccf68cbdcac",
   "metadata": {},
   "source": [
    "# What is Image Processing?\n",
    "\n",
    "The term *image processing* refers to the use of certain mathematical operations to enhance, manipulate or extract useful information from an image. This includes operations designed to change how the image appears, as well as operations designed to change the properties of the signal that underlies the image. As an example, if we were to take every voxel in the image and multiply their value by 5, we would get an image that would appear *brighter* than the original image when using the same colourmap, as shown in {numref}`multiply-intensity-fig`.\n",
    "\n",
    "```{figure} images/multiply-intensity.png\n",
    "---\n",
    "width: 800px\n",
    "name: multiply-intensity-fig\n",
    "---\n",
    "Example of multiplying each voxel value by 5 to increase the brightness of an image using a fixed colour map.\n",
    "```\n",
    "\n",
    "Alternatively, we could leave the values unaltered but instead move each voxel to a different location in the image. For instance, moving each voxel 15 steps to the right would shift the location of the brain relative to the bounding-box of the image, as shown in {numref}`move-voxels-fig`.\n",
    "\n",
    "```{figure} images/move-voxels.png\n",
    "---\n",
    "width: 800px\n",
    "name: move-voxels-fig\n",
    "---\n",
    "Example of moving each voxel value to shift the location of the brain relative to the bounds of the image.\n",
    "```\n"
   ]
  },
  {
   "cell_type": "code",
   "execution_count": null,
   "id": "89c4799f-2095-4cba-b7ff-e272396e63b0",
   "metadata": {},
   "outputs": [],
   "source": []
  }
 ],
 "metadata": {
  "kernelspec": {
   "display_name": "MATLAB Kernel",
   "language": "matlab",
   "name": "jupyter_matlab_kernel"
  },
  "language_info": {
   "file_extension": ".m",
   "mimetype": "text/x-matlab",
   "name": "matlab"
  }
 },
 "nbformat": 4,
 "nbformat_minor": 5
}