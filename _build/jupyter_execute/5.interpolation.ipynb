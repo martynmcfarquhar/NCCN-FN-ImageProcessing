{
 "cells": [
  {
   "cell_type": "markdown",
   "id": "d79698dc-62e1-4f1a-9baf-ff41b3ead17d",
   "metadata": {
    "editable": true,
    "slideshow": {
     "slide_type": ""
    },
    "tags": []
   },
   "source": [
    "# Interpolation\n",
    "\n",
    "In the previous sections, we looked at how to map coordinates between different spaces and saw how we could use this mapping to perform a transformation in voxel-space. However, during this step we glossed over quite an important detail. In the example, we showed how the voxel coordinates changed for a shift of 9mm. This was chosen very specifically to be an *exact multiple* of the voxel size. But what happens if we want to move the image by some other amount? What if we want to move the image by 8mm, or 3.75mm, or any other value that is not an exact multiple of the voxel size? \n",
    "\n",
    "To see what happens, first we will define a $\\mathbf{T}$ to enact a translation of 8mm backwards along the $y$-axis\n",
    "\n",
    "$$\n",
    "\\mathbf{T} =\n",
    "\\begin{bmatrix}\n",
    "1 & 0 & 0 & 0 \\\\\n",
    "0 & 1 & 0 & -8 \\\\\n",
    "0 & 0 & 1 & 0 \\\\\n",
    "0 & 0 & 0 & 1\n",
    "\\end{bmatrix}.\n",
    "$$\n",
    "\n",
    "We will define $\\mathbf{Q}$ in the same fashion as the previous section, and then transform the same coordinates $\\mathbf{a}$ to give\n",
    "\n",
    "$$\n",
    "\\mathbf{Qa} = \n",
    "\\begin{bmatrix}\n",
    "20 \\\\\n",
    "22.667 \\\\\n",
    "20 \\\\\n",
    "1\n",
    "\\end{bmatrix}.\n",
    "$$\n",
    "\n",
    "Make sure you take a moment to consider why this result is problematic. Remembering that $\\mathbf{Q}$ transforms voxel coordinates from the *new* space into voxel coordinates from the *old* space, we have an issue because there is no voxel 22.667 in the original image. In fact, this cannot exist because voxel coordinates are indices into the data matrix and therefore cannot have fractional values. As such, if we wanted to use this $\\mathbf{Q}$ to created a voxel-space transformation, what can we do?\n",
    "\n",
    "The answer is that we have to *estimate* what value would be 66.7% of the way between voxels 22 and 23 in the original image. This estimation procedure is known as *interpolation* (sometimes called *resampling*, *regriding* or *reslicing*). When we interpolate a value we have to use the voxel values surrounding the desired point to make an informed decision about what value voxel 22.667 would have. This may sound unintuitive, given that voxel 22.667 does not exist. However, remember that when we measure the MR signal we are taking discrete samples of a signal that varies *continuously* across the brain. So, in reality, there would have been some value 66.7% of the way between our samples, we just did not measure it. As such, interpolation is about trying to recover the shape of the original signal so we can estimate what this value might have been, had we been able to measure it."
   ]
  },
  {
   "cell_type": "markdown",
   "id": "303bbb32-d1e2-4040-ad3e-a172efe2ea85",
   "metadata": {},
   "source": [
    "## Nearest-neighbour Interpolation\n"
   ]
  },
  {
   "cell_type": "code",
   "execution_count": null,
   "id": "394fa047-4ae0-4548-ad8c-0a23a341deef",
   "metadata": {},
   "outputs": [],
   "source": []
  }
 ],
 "metadata": {
  "kernelspec": {
   "display_name": "MATLAB Kernel",
   "language": "matlab",
   "name": "jupyter_matlab_kernel"
  },
  "language_info": {
   "file_extension": ".m",
   "mimetype": "text/x-matlab",
   "name": "matlab"
  }
 },
 "nbformat": 4,
 "nbformat_minor": 5
}