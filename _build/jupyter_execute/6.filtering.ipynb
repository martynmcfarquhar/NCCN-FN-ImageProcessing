{
 "cells": [
  {
   "cell_type": "markdown",
   "id": "d79698dc-62e1-4f1a-9baf-ff41b3ead17d",
   "metadata": {
    "editable": true,
    "slideshow": {
     "slide_type": ""
    },
    "tags": []
   },
   "source": [
    "# Image Filtering\n"
   ]
  },
  {
   "cell_type": "markdown",
   "id": "662d4310-d707-4d79-bee5-dab13e61cfbb",
   "metadata": {},
   "source": [
    "<div style=\"max-width: 1280px\"><div style=\"position: relative; padding-bottom: 56.25%; height: 0; overflow: hidden;\"><iframe src=\"https://livemanchesterac.sharepoint.com/sites/UOM-FBMH-MSc-NCCN/_layouts/15/embed.aspx?UniqueId=f0c1d6dc-a9a5-49fe-a08d-ae4d1c7aee5e&embed=%7B%22hvm%22%3Atrue%2C%22ust%22%3Atrue%7D&referrer=StreamWebApp&referrerScenario=EmbedDialog.Create\" width=\"1280\" height=\"720\" frameborder=\"0\" scrolling=\"no\" allowfullscreen title=\"SPM-Smoothing.mov\" style=\"border:none; position: absolute; top: 0; left: 0; right: 0; bottom: 0; height: 100%; max-width: 100%;\"></iframe></div></div>"
   ]
  },
  {
   "cell_type": "code",
   "execution_count": null,
   "id": "d74f2244-6de1-4b02-baaf-8953a99460fc",
   "metadata": {},
   "outputs": [],
   "source": []
  }
 ],
 "metadata": {
  "kernelspec": {
   "display_name": "MATLAB Kernel",
   "language": "matlab",
   "name": "jupyter_matlab_kernel"
  },
  "language_info": {
   "file_extension": ".m",
   "mimetype": "text/x-matlab",
   "name": "matlab"
  }
 },
 "nbformat": 4,
 "nbformat_minor": 5
}