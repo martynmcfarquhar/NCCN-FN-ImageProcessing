{
 "cells": [
  {
   "cell_type": "markdown",
   "id": "d79698dc-62e1-4f1a-9baf-ff41b3ead17d",
   "metadata": {
    "editable": true,
    "slideshow": {
     "slide_type": ""
    },
    "tags": []
   },
   "source": [
    "# MATLAB and Linear Algebra\n",
    "As mentioned in the previous section, `SPM` is a software package that is built *on top* of the `MATLAB` scientific computing environment. Although possible to use `SPM` without any further knowledge of `MATLAB`, there is an argument to be made for being at least a *bit* familiar with the `MATLAB` language. Unfortunately, we do not have time on this course for in-depth training on computer programming. However, we can start using `MATLAB` as a way of understanding some of the mathematical theory that we will need going forward. This will do double-duty as a way of getting familiar with `MATLAB`, as well as a way of learning some mathematical concepts in a more interactive fashion.\n",
    "\n",
    "### The MATLAB Prompt\n",
    "In order to communicate with `MATLAB`, we use the `MATLAB` prompt. The prompt is signified in the Command Window by the two angled brackets `>>`. These brackets indicate where we can type commands for `MATLAB` to interpret. We type something at the prompt, hit <kbd>ENTER</kbd> and then whatever we typed gets sent to the interpreter. If `MATLAB` understands what we typed, it will return the answer. If `MATLAB` does not understand what we typed, it will return an error.\n",
    "\n",
    "As an example, if we wanted to use `MATLAB` as a highly over-engineered calculator, we could ask what $3 \\times 4$ is by typing"
   ]
  },
  {
   "cell_type": "code",
   "execution_count": 2,
   "id": "825efa58-07ba-407a-85a8-fb6976dbd5ad",
   "metadata": {
    "tags": []
   },
   "outputs": [
    {
     "data": {
      "text/html": [
       "<html><body><pre>ans = 12</pre></body></html>"
      ],
      "text/plain": [
       "ans = 12"
      ]
     },
     "execution_count": 2,
     "metadata": {},
     "output_type": "execute_result"
    }
   ],
   "source": [
    "3 * 4"
   ]
  },
  {
   "cell_type": "markdown",
   "id": "7cd304ab-0a0c-4f76-a33a-5bc117b23557",
   "metadata": {},
   "source": [
    "However, if we accidentally typed `$` instead of `*`, we would get"
   ]
  },
  {
   "cell_type": "code",
   "execution_count": 4,
   "id": "4ceb09e9-9104-4233-b4ec-81fe087222dc",
   "metadata": {
    "tags": []
   },
   "outputs": [
    {
     "name": "stderr",
     "output_type": "stream",
     "text": [
      "Invalid text character. Check for unsupported symbol, invisible character, or pasting of non-ASCII characters."
     ]
    }
   ],
   "source": [
    "3 $ 4"
   ]
  },
  {
   "cell_type": "markdown",
   "id": "56cff046-c45b-4a5e-a567-520d6aa2e211",
   "metadata": {},
   "source": [
    "In this instance, MATLAB has return an error because it does not undestand what `$` means in this context. "
   ]
  },
  {
   "cell_type": "markdown",
   "id": "8ce45a6e-b424-4f6a-aab9-c56c3c314c6f",
   "metadata": {
    "tags": []
   },
   "source": [
    "## Variables\n",
    "Before getting into some of the key concepts of linear algebra, we first need to understand some programming fundamentals. One of the most basic characteristics of any programming language is the ability to store data in memory for later use. We do this by using *variables*, which you can think of as boxes with names that we can put data inside to keep for later. As an example, the code below shows the declaration of a variable called `a` and assigning it the number 5."
   ]
  },
  {
   "cell_type": "code",
   "execution_count": 7,
   "id": "c7bd8f6d-7c0a-4d26-9b12-94730b38dbac",
   "metadata": {
    "editable": true,
    "slideshow": {
     "slide_type": ""
    },
    "tags": []
   },
   "outputs": [],
   "source": [
    "a = 5;"
   ]
  },
  {
   "cell_type": "markdown",
   "id": "3c5379d1-2cd6-430d-8f9b-bce628d52d19",
   "metadata": {},
   "source": [
    "Notice here that we have used a semi-colon `;` at the end of the line to suppress `MATLAB` printing any output. In declaring the variable `a`, we have created a box that we have called `a` that contains the number `5`. Now, every time we type `a`, `MATLAB` will open this box and use whatever is inside it. As such, if we just type `a` we get "
   ]
  },
  {
   "cell_type": "code",
   "execution_count": 9,
   "id": "c4c81c44-38fc-4af1-ada1-3009850f9310",
   "metadata": {},
   "outputs": [
    {
     "data": {
      "text/html": [
       "<html><body><pre>a = 5</pre></body></html>"
      ],
      "text/plain": [
       "a = 5"
      ]
     },
     "execution_count": 9,
     "metadata": {},
     "output_type": "execute_result"
    }
   ],
   "source": [
    "a"
   ]
  },
  {
   "cell_type": "markdown",
   "id": "e9550ccd-f964-4203-91de-66b5b2fd5e30",
   "metadata": {},
   "source": [
    "but if we do something with the returned value we get"
   ]
  },
  {
   "cell_type": "code",
   "execution_count": 11,
   "id": "5739fd29-8629-4eba-94d3-ded0a77b6033",
   "metadata": {
    "tags": []
   },
   "outputs": [
    {
     "data": {
      "text/html": [
       "<html><body><pre>ans = 12</pre></body></html>"
      ],
      "text/plain": [
       "ans = 12"
      ]
     },
     "execution_count": 11,
     "metadata": {},
     "output_type": "execute_result"
    }
   ],
   "source": [
    "a + 7"
   ]
  },
  {
   "cell_type": "markdown",
   "id": "9aa04da8-b5c3-4957-822a-1b36807a4c5d",
   "metadata": {},
   "source": [
    "`````{admonition} Tip\n",
    ":class: tip\n",
    "Whenever a value is not explicitly assigned to a variable, `MATLAB` will automatically assign it to a default variable called `ans` (for *answer*).\n",
    "`````\n",
    "\n",
    "Similarly, we could declare another variable with the name `b`"
   ]
  },
  {
   "cell_type": "code",
   "execution_count": 13,
   "id": "d2d256a4-b66a-47be-a0ba-d93b22b4734c",
   "metadata": {
    "editable": true,
    "slideshow": {
     "slide_type": ""
    },
    "tags": []
   },
   "outputs": [],
   "source": [
    "b = 10;"
   ]
  },
  {
   "cell_type": "markdown",
   "id": "35c3ea6b-9663-4a91-8a5b-ed0e48ec9e4a",
   "metadata": {},
   "source": [
    "and then add `a` and `b` together"
   ]
  },
  {
   "cell_type": "code",
   "execution_count": 15,
   "id": "eb22357a-5ece-4c30-9310-5c1ee3bcb4f9",
   "metadata": {
    "tags": []
   },
   "outputs": [
    {
     "data": {
      "text/html": [
       "<html><body><pre>ans = 15</pre></body></html>"
      ],
      "text/plain": [
       "ans = 15"
      ]
     },
     "execution_count": 15,
     "metadata": {},
     "output_type": "execute_result"
    }
   ],
   "source": [
    "a + b"
   ]
  },
  {
   "cell_type": "markdown",
   "id": "86ab793b-0399-4b1d-a6ba-815a9858f51e",
   "metadata": {},
   "source": [
    "Although these examples are quite trivial, the power of variables means that we can create code where we do not know the values of `a` and `b`. Perhaps their value depends upon the data we are using? Or perhaps it depends on some other factor that may change each time the code runs? Either way, it does not really matter what value they have if we know that we want to add them together. Thus we can write generic code that can be used irrespective of what the inputs will be."
   ]
  },
  {
   "cell_type": "markdown",
   "id": "2f493a3f-1c1a-4cee-9ee1-f919f9f8972f",
   "metadata": {},
   "source": [
    "`````{admonition} Tip\n",
    ":class: tip\n",
    "There are rules about naming variables. A variable name cannot start with a number, it cannot contain spaces and the only special character you can use is an underscore. You also need to be aware that `MATLAB` is case-sensitive, meaning that `variable_a` and `VARIABLE_A` will be interpreted as different entities. In addition, remember that a variable can only hold one thing at a time and if you re-assign a variable then the original value will be lost.\n",
    "`````"
   ]
  },
  {
   "cell_type": "markdown",
   "id": "2551a110-3bac-44ae-a067-fbdc7fcd9e1d",
   "metadata": {},
   "source": [
    "## Vectors and Matrices\n",
    "Now that we have the idea of variables in mind, we can move on to understanding some basic principles of linear algebra. Just to reiterate, these are concepts that we will need going forward on the course. As such, it is important to gain some familiarity at this point, even though the context will be missing. Just try and get a feel for some of these ideas and have a go at feeding the code into `MATLAB`. We will start to see all of this in action as the course progresses.\n",
    "\n",
    "To begin with, the most fundamental entities in linear algebra are *vectors* and *matrices*. We will be using these a lot on this course, so it is important to both understand what a vector or matrix is, as well as understanding how they can be manipulated.\n",
    "\n",
    "### Vectors\n",
    "A vector is simply a list of numbers. For instance\n",
    "\n",
    "$$\n",
    "\\mathbf{a} = \\begin{bmatrix}3 & 4 & 5\\end{bmatrix}.\n",
    "$$\n",
    "\n",
    "Here, $\\mathbf{a}$ is a 3-dimensional row vector with elements 3, 4 and 5. We can refer to the individual elements using *subscripts*. For instance, $a_{1} = 3$, $a_{2} = 4$ and so on. Typically, a vector is written as a **bold** lower-case letter. A vector can also be defined as a *column* of numbers, for instance\n",
    "\n",
    "$$\n",
    "\\mathbf{b} = \n",
    "\\begin{bmatrix}\n",
    "    6 \\\\  \n",
    "    7 \\\\ \n",
    "    8 \\\\\n",
    "\\end{bmatrix}.\n",
    "$$\n",
    "\n",
    "Here, $\\mathbf{b}$ is a 3-dimensional column-vector with elements $b_{1} = 6$, $b_{2} = 7$ and $b_{3} = 8$. Although the orientation of a vector may seem like a trivial detail, we will soon see that this is very important.\n",
    "\n",
    "In `MATLAB`, a vector is defined using a list of numbers between square brackets. For instance, we can define the vector $\\mathbf{a}$ in `MATLAB` as"
   ]
  },
  {
   "cell_type": "code",
   "execution_count": 19,
   "id": "bd990ac1-0f8f-4f44-bb28-5499d3ebf2de",
   "metadata": {
    "editable": true,
    "slideshow": {
     "slide_type": ""
    },
    "tags": []
   },
   "outputs": [
    {
     "data": {
      "text/html": [
       "<html><body><pre>a = 1×3 double\n",
       "     3     4     5\n",
       "</pre></body></html>"
      ],
      "text/plain": [
       "a = 1×3 double\n",
       "     3     4     5\n"
      ]
     },
     "execution_count": 19,
     "metadata": {},
     "output_type": "execute_result"
    }
   ],
   "source": [
    "a = [3 4 5]"
   ]
  },
  {
   "cell_type": "markdown",
   "id": "ad78760a-fb94-4987-9848-1186aaca41b2",
   "metadata": {},
   "source": [
    "which tells us that `a` is a $1 \\times 3$ vector of [double-precision](https://en.wikipedia.org/wiki/Double-precision_floating-point_format) values. We can access the individual elements using curved brackets"
   ]
  },
  {
   "cell_type": "code",
   "execution_count": 21,
   "id": "1990adb8-b7be-4129-803a-b42c66c76ce2",
   "metadata": {},
   "outputs": [
    {
     "data": {
      "text/html": [
       "<html><body><pre>ans = 3</pre></body></html>"
      ],
      "text/plain": [
       "ans = 3"
      ]
     },
     "execution_count": 21,
     "metadata": {},
     "output_type": "execute_result"
    }
   ],
   "source": [
    "a(1)"
   ]
  },
  {
   "cell_type": "markdown",
   "id": "e69d5a50-108e-4c0d-a0a0-c23e5c4b2607",
   "metadata": {},
   "source": [
    "or provide a range of indices to return multiple values, using the `:` syntax"
   ]
  },
  {
   "cell_type": "code",
   "execution_count": 23,
   "id": "8071410f-796a-40e1-a85d-8e7401284c8c",
   "metadata": {},
   "outputs": [
    {
     "data": {
      "text/html": [
       "<html><body><pre>ans = 1×2 double\n",
       "     4     5\n",
       "</pre></body></html>"
      ],
      "text/plain": [
       "ans = 1×2 double\n",
       "     4     5\n"
      ]
     },
     "execution_count": 23,
     "metadata": {},
     "output_type": "execute_result"
    }
   ],
   "source": [
    "a(2:3)"
   ]
  },
  {
   "cell_type": "markdown",
   "id": "f2a97a7b-7267-4f18-9ceb-3793b021d985",
   "metadata": {},
   "source": [
    "which will return all the values of `a` between index `2` and index `3`. \n",
    "\n",
    "We can create a column vector by designating new rows with `;`"
   ]
  },
  {
   "cell_type": "code",
   "execution_count": 25,
   "id": "b769b188-f0ad-461a-b4fc-3a7ad1134707",
   "metadata": {
    "editable": true,
    "slideshow": {
     "slide_type": ""
    },
    "tags": []
   },
   "outputs": [
    {
     "data": {
      "text/html": [
       "<html><body><pre>b = 3×1 double\n",
       "     6\n",
       "     7\n",
       "     8\n",
       "</pre></body></html>"
      ],
      "text/plain": [
       "b = 3×1 double\n",
       "     6\n",
       "     7\n",
       "     8\n"
      ]
     },
     "execution_count": 25,
     "metadata": {},
     "output_type": "execute_result"
    }
   ],
   "source": [
    "b = [6; 7; 8]"
   ]
  },
  {
   "cell_type": "markdown",
   "id": "fc25afec-3c15-4d78-a47a-48d05e855825",
   "metadata": {},
   "source": [
    "and, similarly, we can access individual elements using curved brackets"
   ]
  },
  {
   "cell_type": "code",
   "execution_count": 27,
   "id": "ca4c6b37-a4c7-413c-9b76-19c4eeaef8c9",
   "metadata": {},
   "outputs": [
    {
     "data": {
      "text/html": [
       "<html><body><pre>ans = 2×1 double\n",
       "     6\n",
       "     7\n",
       "</pre></body></html>"
      ],
      "text/plain": [
       "ans = 2×1 double\n",
       "     6\n",
       "     7\n"
      ]
     },
     "execution_count": 27,
     "metadata": {},
     "output_type": "execute_result"
    }
   ],
   "source": [
    "b(1:2)"
   ]
  },
  {
   "cell_type": "markdown",
   "id": "849f711e-c8d5-46f1-be3e-89487977b643",
   "metadata": {},
   "source": [
    "### Matrices\n",
    "A matrix is simply a collection of vectors. We can either think of a matrix as a collection of column-vectors, or as a collection of row-vectors. Either way, a matrix has multiple rows *and* multiple columns. For instance\n",
    "\n",
    "$$\n",
    "\\mathbf{A} = \n",
    "\\begin{bmatrix}\n",
    "1 & 2 & 3 \\\\\n",
    "4 & 5 & 6 \\\\\n",
    "\\end{bmatrix}\n",
    "$$\n",
    "\n",
    "is a $2 \\times 3$ matrix consisting of elements $a_{11} = 1$, $a_{12} = 2$ and so on. We can refer to any element generically as $a_{ij}$ for row $i$ and column $j$. Typically, matrices are written as upper-case **bold** letters, to distinguish them from vectors.\n",
    "\n",
    "In `MATLAB`, we declare matrices using square brackets and a combination of spaces and semi-colons. For example, we could declare $\\mathbf{A}$ using"
   ]
  },
  {
   "cell_type": "code",
   "execution_count": 29,
   "id": "675b44ed-dcca-413d-b5ec-29934fc88726",
   "metadata": {},
   "outputs": [
    {
     "data": {
      "text/html": [
       "<html><body><pre>A = 2×3 double\n",
       "     1     2     3\n",
       "     4     5     6\n",
       "</pre></body></html>"
      ],
      "text/plain": [
       "A = 2×3 double\n",
       "     1     2     3\n",
       "     4     5     6\n"
      ]
     },
     "execution_count": 29,
     "metadata": {},
     "output_type": "execute_result"
    }
   ],
   "source": [
    "A = [1 2 3; 4 5 6]"
   ]
  },
  {
   "cell_type": "markdown",
   "id": "e0198a03-6019-4d00-a356-ca58b2eaad19",
   "metadata": {},
   "source": [
    "We can also make this declaration look more like a matrix using the MATLAB line-continuation syntax"
   ]
  },
  {
   "cell_type": "code",
   "execution_count": 31,
   "id": "0fe3d608-cffa-40de-8e64-7ea927ad079a",
   "metadata": {
    "editable": true,
    "slideshow": {
     "slide_type": ""
    },
    "tags": []
   },
   "outputs": [],
   "source": [
    "A = [1 2 3; ...\n",
    "     4 5 6];"
   ]
  },
  {
   "cell_type": "markdown",
   "id": "42dc9c26-5e0a-4536-a656-51a1f805dd69",
   "metadata": {
    "editable": true,
    "slideshow": {
     "slide_type": ""
    },
    "tags": []
   },
   "source": [
    "## Matrix Operations\n",
    "Beyond being containers for collections of numbers, matrices and vectors are *mathematical objects*, that we can treat in similar fashion to regular numbers. As such, arithmetic operations such as addition or subtraction all have matrix equivalents. However, these equivalents may not be particularly intuitive, as we will see below.\n",
    "\n",
    "### Addition and Subtraction\n",
    "Starting with addition and subtraction, two matrices can be added or subtracted if they are the same dimensions. In this case, the operation is defined as the addition or subtraction of each individual element. For instance, for a matrix with $m$ rows and $n$ columns, we can write that\n",
    "\n",
    "$$\n",
    "\\mathbf{C} = \\mathbf{A} + \\mathbf{B} =\n",
    "\\begin{bmatrix}\n",
    "a_{11} + b_{11} & a_{12} + b_{12} & \\dots  & a_{1n} + b_{1n} \\\\\n",
    "a_{21} + b_{21} & a_{22} + b_{22} & \\dots  & a_{2n} + b_{2n} \\\\\n",
    "\\vdots          & \\vdots          & \\ddots & \\vdots          \\\\\n",
    "a_{m1} + b_{m1} & a_{m2} + b_{m2} & \\dots  & a_{mn} + b_{mn} \\\\\n",
    "\\end{bmatrix}\n",
    "$$\n",
    "\n",
    "where the ellipses ($\\dots$) just mean \"continue the pattern along this direction\". In this example, the row indices run from $i = 1,\\dots,m$ and the column indices run from $j = 1,\\dots,n$. We can see this in `MATLAB`"
   ]
  },
  {
   "cell_type": "code",
   "execution_count": 33,
   "id": "c874637d-06a2-4413-b0d8-f1d88f296ceb",
   "metadata": {},
   "outputs": [
    {
     "data": {
      "text/html": [
       "<html><body><pre>C = 2×3 double\n",
       "     3     5     7\n",
       "     9    11    13\n",
       "</pre></body></html>"
      ],
      "text/plain": [
       "C = 2×3 double\n",
       "     3     5     7\n",
       "     9    11    13\n"
      ]
     },
     "execution_count": 33,
     "metadata": {},
     "output_type": "execute_result"
    }
   ],
   "source": [
    "A = [1 2 3; 4 5 6];\n",
    "B = [2 3 4; 5 6 7];\n",
    "C = A + B"
   ]
  },
  {
   "cell_type": "markdown",
   "id": "f3794858-a203-4302-99ff-562882e21d4d",
   "metadata": {},
   "source": [
    "where the result `C` is the same as"
   ]
  },
  {
   "cell_type": "code",
   "execution_count": 35,
   "id": "41aef5f8-b29d-48a6-8dc3-15717630b9dc",
   "metadata": {},
   "outputs": [
    {
     "data": {
      "text/html": [
       "<html><body><pre>C = 2×3 double\n",
       "     3     5     7\n",
       "     9    11    13\n",
       "</pre></body></html>"
      ],
      "text/plain": [
       "C = 2×3 double\n",
       "     3     5     7\n",
       "     9    11    13\n"
      ]
     },
     "execution_count": 35,
     "metadata": {},
     "output_type": "execute_result"
    }
   ],
   "source": [
    "C = [1+2 2+3 3+4; 4+5 5+6 6+7]"
   ]
  },
  {
   "cell_type": "markdown",
   "id": "ad9cbbd6-190a-44ce-a954-db643ae25009",
   "metadata": {
    "editable": true,
    "slideshow": {
     "slide_type": ""
    },
    "tags": []
   },
   "source": [
    "Matrix subtraction works in much the same way, so we have\n",
    "\n",
    "$$\n",
    "\\mathbf{C} = \\mathbf{A} - \\mathbf{B}\n",
    "$$\n",
    "\n",
    "which, again, is only defined when $\\mathbf{A}$ and $\\mathbf{B}$ have the same dimensions. For instance"
   ]
  },
  {
   "cell_type": "code",
   "execution_count": 37,
   "id": "3807c149-ff9d-48f5-99bf-561a9be7ae30",
   "metadata": {},
   "outputs": [
    {
     "data": {
      "text/html": [
       "<html><body><pre>C = 2×3 double\n",
       "    -1     1     2\n",
       "    -2    -4    -4\n",
       "</pre></body></html>"
      ],
      "text/plain": [
       "C = 2×3 double\n",
       "    -1     1     2\n",
       "    -2    -4    -4\n"
      ]
     },
     "execution_count": 37,
     "metadata": {},
     "output_type": "execute_result"
    }
   ],
   "source": [
    "A = [1 4 6; 3 2 3];\n",
    "B = [2 3 4; 5 6 7];\n",
    "C = A - B"
   ]
  },
  {
   "cell_type": "markdown",
   "id": "b4ce3b3c-245d-42d3-ad2d-3ee7ea3ea555",
   "metadata": {},
   "source": [
    "If we try to add/subtract matrices of different dimensions `MATLAB` will throw an error"
   ]
  },
  {
   "cell_type": "code",
   "execution_count": 39,
   "id": "99bb5393-38e9-4ba0-b791-648d5c13e95d",
   "metadata": {},
   "outputs": [
    {
     "name": "stderr",
     "output_type": "stream",
     "text": [
      "Arrays have incompatible sizes for this operation."
     ]
    }
   ],
   "source": [
    "A = [1 3 4; 5 6 7; 8 9 6];\n",
    "B = [1 3; 6 5];\n",
    "C = A + B"
   ]
  },
  {
   "cell_type": "markdown",
   "id": "9eef2c14-c071-4d17-9bac-2194eb1226bf",
   "metadata": {},
   "source": [
    "Formally, we say that addition or subtraction is *undefined* for matrices of different dimensions. Thus, we can see that the rules that govern what we can and cannot do with matrices are stricter than we may be used to with regular numbers. "
   ]
  },
  {
   "cell_type": "markdown",
   "id": "eaf3a81d-f760-45cf-a107-524fb1e3b67b",
   "metadata": {
    "editable": true,
    "slideshow": {
     "slide_type": ""
    },
    "tags": []
   },
   "source": [
    "### Multiplication\n",
    "Multiplication of matrices is also possible, however, this is a more complex operation than addition/subtraction. To begin with, multiplying a matrix by a single number simply *scales* the matrix by that amount. As such, in the world of linear algebra, single numbers are often called *scalars*. For instance"
   ]
  },
  {
   "cell_type": "code",
   "execution_count": 42,
   "id": "cf0ca1b9-ba4f-4936-ae68-7b40d08fd569",
   "metadata": {},
   "outputs": [
    {
     "data": {
      "text/html": [
       "<html><body><pre>B = 2×3 double\n",
       "     2     4     6\n",
       "     8    10    12\n",
       "</pre></body></html>"
      ],
      "text/plain": [
       "B = 2×3 double\n",
       "     2     4     6\n",
       "     8    10    12\n"
      ]
     },
     "execution_count": 42,
     "metadata": {},
     "output_type": "execute_result"
    }
   ],
   "source": [
    "A = [1 2 3; 4 5 6];\n",
    "B = 2 * A"
   ]
  },
  {
   "cell_type": "markdown",
   "id": "a71124cc-e794-4a8d-bea7-900924f69689",
   "metadata": {},
   "source": [
    "Unfortunately, that is where the simplicity ends. Let us consider the case of multiplying two matrices. For example\n",
    "\n",
    "$$\n",
    "\\mathbf{A} = \n",
    "\\begin{bmatrix}\n",
    "    1 & 2 & 3 \\\\\n",
    "    4 & 5 & 6\n",
    "\\end{bmatrix} \\quad\n",
    "\\mathbf{B} = \n",
    "\\begin{bmatrix}\n",
    "    7  & 8  \\\\\n",
    "    9  & 10 \\\\\n",
    "    11 & 12\n",
    "\\end{bmatrix}\n",
    "$$\n",
    "\n",
    "You may notice that these are different dimensions, which is something that will be explained soon. To begin with, let us see what `MATLAB` tells us $\\mathbf{A} \\times \\mathbf{B}$ is"
   ]
  },
  {
   "cell_type": "code",
   "execution_count": 44,
   "id": "b6815fb3-cc6d-4f35-a23a-ca1fb3f13301",
   "metadata": {},
   "outputs": [
    {
     "data": {
      "text/html": [
       "<html><body><pre>C = 2×2 double\n",
       "    58    64\n",
       "   139   154\n",
       "</pre></body></html>"
      ],
      "text/plain": [
       "C = 2×2 double\n",
       "    58    64\n",
       "   139   154\n"
      ]
     },
     "execution_count": 44,
     "metadata": {},
     "output_type": "execute_result"
    }
   ],
   "source": [
    "A = [1 2 3; 4 5 6];\n",
    "B = [7 8; 9 10; 11 12];\n",
    "C = A*B"
   ]
  },
  {
   "cell_type": "markdown",
   "id": "12e61da1-5d5a-403d-8824-8b5cc1b25e2b",
   "metadata": {
    "editable": true,
    "slideshow": {
     "slide_type": ""
    },
    "tags": []
   },
   "source": [
    "You might want to take a moment to ponder this result and see if you can work out how `MATLAB` got there.\n",
    "\n",
    "To see how this multiplication works, start with the first *row* of $\\mathbf{A}$ and the first *column* of $\\mathbf{B}$. Each element in the row must be multiplied by each element in the column and then added together. In this example, we do $(1 \\times 7) + (2 \\times 9) + (3 \\times 11) = 58$. This sum then becomes the result for the first element of the new matrix\n",
    "\n",
    "$$\n",
    "\\begin{bmatrix}\n",
    "    1           & 2           & 3           \\\\\n",
    "    \\phantom{4} & \\phantom{5} & \\phantom{6} \\\\\n",
    "\\end{bmatrix} \\times\n",
    "\\begin{bmatrix}\n",
    "    7  & \\phantom{8}  \\\\\n",
    "    9  & \\phantom{10} \\\\\n",
    "    11 & \\phantom{12} \\\\\n",
    "\\end{bmatrix} =\n",
    "\\begin{bmatrix}\n",
    "    58            & \\phantom{64}  \\\\\n",
    "    \\phantom{139} & \\phantom{154} \\\\\n",
    "\\end{bmatrix}.\n",
    "$$\n",
    "\n",
    "We then do the same thing with the first *row* of $\\mathbf{A}$ and the second *column* of $\\mathbf{B}$ \n",
    "\n",
    "$$\n",
    "\\begin{bmatrix}\n",
    "    1           & 2           & 3           \\\\\n",
    "    \\phantom{4} & \\phantom{5} & \\phantom{6} \\\\\n",
    "\\end{bmatrix} \\times\n",
    "\\begin{bmatrix}\n",
    "    \\phantom{7}  & 8  \\\\\n",
    "    \\phantom{9}  & 10 \\\\\n",
    "    \\phantom{11} & 12 \\\\\n",
    "\\end{bmatrix} =\n",
    "\\begin{bmatrix}\n",
    "    58            & 64  \\\\\n",
    "    \\phantom{139} & \\phantom{154} \\\\\n",
    "\\end{bmatrix},\n",
    "$$\n",
    "\n",
    "then the second *row* of $\\mathbf{A}$ and the first *column* of $\\mathbf{B}$ \n",
    "\n",
    "$$\n",
    "\\begin{bmatrix}\n",
    "    \\phantom{1} & \\phantom{2} & \\phantom{3} \\\\\n",
    "    4           & 5           & 6 \\\\\n",
    "\\end{bmatrix} \\times\n",
    "\\begin{bmatrix}\n",
    "    7  & \\phantom{8}  \\\\\n",
    "    9  & \\phantom{10} \\\\\n",
    "    11 & \\phantom{12} \\\\\n",
    "\\end{bmatrix} =\n",
    "\\begin{bmatrix}\n",
    "    58  & 64  \\\\\n",
    "    139 & \\phantom{154} \\\\\n",
    "\\end{bmatrix}.\n",
    "$$\n",
    "\n",
    "Finally, we do the second *row* of $\\mathbf{A}$ and the second *column* of $\\mathbf{B}$ \n",
    "\n",
    "$$\n",
    "\\begin{bmatrix}\n",
    "    \\phantom{1} & \\phantom{2} & \\phantom{3} \\\\\n",
    "    4           & 5           & 6 \\\\\n",
    "\\end{bmatrix} \\times\n",
    "\\begin{bmatrix}\n",
    "    \\phantom{7}  & 8  \\\\\n",
    "    \\phantom{9}  & 10 \\\\\n",
    "    \\phantom{11} & 12 \\\\\n",
    "\\end{bmatrix} =\n",
    "\\begin{bmatrix}\n",
    "    58  & 64  \\\\\n",
    "    139 & 154 \\\\\n",
    "\\end{bmatrix}.\n",
    "$$\n",
    "\n",
    "If this is the first time you have come across matrix multiplication, this will seem very strange. For a deeper explanation of why this is the case, have a look at the info box below. However, the important thing to know from a practical perspective is that matrix-matrix, matrix-vector, vector-matrix and vector-vector multiplication are only defined when the number of *columns* in $\\mathbf{A}$ matches the number of *rows* in $\\mathbf{B}$. In addition, the resultant matrix will always have the same number of *rows* as $\\mathbf{A}$ and the same number of *columns* as $\\mathbf{B}$."
   ]
  },
  {
   "cell_type": "markdown",
   "id": "0442f76d-721e-4d22-bba9-0797dd64e473",
   "metadata": {},
   "source": [
    "```{admonition} Advanced: Why is Matrix Multiplication So Strange?\n",
    ":class: dropdown\n",
    "\n",
    "To understand why matrix multiplication has the definition that it does, we need to first understand that linear algebra is all about *linear equations*. A linear equation is simply an equation where some numbers are multiplied by other numbers and then added together to form a weighted-sum. For example, the equation below is a linear equation\n",
    "\n",
    "$$\n",
    "y = a_{1}x_{1} + a_{2}x_{2} + b\n",
    "$$\n",
    "\n",
    "where there are two *variables* ($x_{1}$ and $x_{2}$) and three *coefficients* ($a_{1}$, $a_{2}$ and $b$). Each variable is multiplied by its respective coefficient and then everything is added together to form the value of y. The important point here is that the variables can take on any value (hence they can *vary*), whereas the coefficients are usually fixed.\n",
    "\n",
    "Linear equations are incredibly useful in many branches of science for describing real-world phenomena. Often *multiple* equations are needed to model complex phenomena, which is known as a *system* of linear equations. These equations share the same coefficients, but have different values for the variables. For example, take the following system of 3 equations\n",
    "\n",
    "$$\n",
    "y_{1} &= a_{1}x_{11} + a_{2}x_{12} + b \\\\\n",
    "y_{2} &= a_{1}x_{21} + a_{2}x_{22} + b \\\\\n",
    "y_{3} &= a_{1}x_{31} + a_{2}x_{32} + b\n",
    "$$\n",
    "\n",
    "Notice here that each equation has different $x$ values (indicated by the different indices), but the same $a$ and $b$ values. The point of matrices is that they allow this system to be represented compactly *and* provides methods for solving for $a$ and $b$. To see this, we can write the system as\n",
    "\n",
    "$$\n",
    "\\begin{bmatrix}\n",
    "y_{1} \\\\\n",
    "y_{2} \\\\\n",
    "y_{3}\n",
    "\\end{bmatrix}\n",
    "=\n",
    "\\begin{bmatrix}\n",
    "x_{11} & x_{12} & 1 \\\\\n",
    "x_{21} & x_{22} & 1 \\\\\n",
    "x_{31} & x_{32} & 1 \\\\\n",
    "\\end{bmatrix}\n",
    "\\begin{bmatrix}\n",
    "a_{1} \\\\\n",
    "a_{2} \\\\\n",
    "b\n",
    "\\end{bmatrix},\n",
    "$$\n",
    "\n",
    "which can be expressed simply as\n",
    "\n",
    "$$\n",
    "\\mathbf{y} = \\mathbf{X}\\mathbf{a}.\n",
    "$$\n",
    "\n",
    "If we use the definition of matrix multiplication, notice that this recreates the linear equations that define the system. For instance, the first row of $\\mathbf{X}$ gives\n",
    "\n",
    "$$\n",
    "\\begin{bmatrix}\n",
    "x_{11}           & x_{12}           & 1           \\\\\n",
    "\\phantom{x_{21}} & \\phantom{x_{22}} & \\phantom{1} \\\\\n",
    "\\phantom{x_{31}} & \\phantom{x_{32}} & \\phantom{1} \\\\\n",
    "\\end{bmatrix}\n",
    "\\begin{bmatrix}\n",
    "a_{1} \\\\\n",
    "a_{2} \\\\\n",
    "b\n",
    "\\end{bmatrix} = \n",
    "\\begin{bmatrix}\n",
    "x_{11}a_{1} + x_{12}a_{2} + b \\\\\n",
    "\\phantom{} \\\\\n",
    "\\phantom{}\n",
    "\\end{bmatrix}.\n",
    "$$\n",
    "\n",
    "You can try this yourself for the remaining two rows. The important point here is that this only works because the rules of matrix multiplication make it work. So, the only way for a system of linear equations to be represented in matrices is by having a more convoluted definition of how multiplication works.\n",
    "\n",
    "```"
   ]
  },
  {
   "cell_type": "markdown",
   "id": "e0cc3bfc-2883-4614-bb6e-301e1d5893f5",
   "metadata": {
    "editable": true,
    "slideshow": {
     "slide_type": ""
    },
    "tags": []
   },
   "source": [
    "### Transposition\n",
    "As we have seen above, the dimensions of a matrix or vector are very important for determining when matrix multiplication can be performed. In practise, this means that the dimensions of matrices may need to be manipulated. One common approach is an operation called *transposition*, where the rows and the columns of a matrix are swapped. The notation for this is either $\\mathbf{M}^{\\prime}$ or $\\mathbf{M}^{T}$ . So that if\n",
    "\n",
    "$$\n",
    "\\mathbf{M} = \n",
    "\\begin{bmatrix}\n",
    "1 & 2 \\\\\n",
    "3 & 4 \\\\\n",
    "5 & 6\n",
    "\\end{bmatrix},\n",
    "$$\n",
    "\n",
    "the transpose would be\n",
    "\n",
    "$$\n",
    "\\mathbf{M}^{\\prime} = \n",
    "\\begin{bmatrix}\n",
    "1 & 3 & 5 \\\\\n",
    "2 & 4 & 6\n",
    "\\end{bmatrix}.\n",
    "$$\n",
    "\n",
    "You can do this in `MATLAB` using the `'` symbol"
   ]
  },
  {
   "cell_type": "code",
   "execution_count": 48,
   "id": "2c67ac1c-65c1-49cd-b9dd-de0aa1fd3174",
   "metadata": {},
   "outputs": [
    {
     "data": {
      "text/html": [
       "<html><body><pre>M = 3×2 double\n",
       "     1     2\n",
       "     3     4\n",
       "     5     6\n",
       "</pre></body></html>"
      ],
      "text/plain": [
       "M = 3×2 double\n",
       "     1     2\n",
       "     3     4\n",
       "     5     6\n"
      ]
     },
     "execution_count": 48,
     "metadata": {},
     "output_type": "execute_result"
    }
   ],
   "source": [
    "M = [1 2; 3 4; 5 6]"
   ]
  },
  {
   "cell_type": "code",
   "execution_count": 49,
   "id": "62d30a3e-4495-4510-80d8-ae82b27e7783",
   "metadata": {},
   "outputs": [
    {
     "data": {
      "text/html": [
       "<html><body><pre>ans = 2×3 double\n",
       "     1     3     5\n",
       "     2     4     6\n",
       "</pre></body></html>"
      ],
      "text/plain": [
       "ans = 2×3 double\n",
       "     1     3     5\n",
       "     2     4     6\n"
      ]
     },
     "execution_count": 49,
     "metadata": {},
     "output_type": "execute_result"
    }
   ],
   "source": [
    "M'"
   ]
  },
  {
   "cell_type": "markdown",
   "id": "a9d2a8b6-504b-4ce5-bd51-5d8e409347fb",
   "metadata": {
    "editable": true,
    "slideshow": {
     "slide_type": ""
    },
    "tags": []
   },
   "source": [
    "### Division\n",
    "We have now covered matrix addition, subtraction and multiplication. So what about matrix division? Unfortunately, this is where things get complicated again. To start with, let us review a particular way of viewing division of normal numbers. As we should all know, division is simply splitting a number into equal parts. However, we can also view this as a *multiplication*. Specifically, multiplication by the *inverse* of another number. For instance\n",
    "\n",
    "$$\n",
    "10 \\times \\frac{1}{2} = 5\n",
    "$$\n",
    "\n",
    "because\n",
    "\n",
    "$$\n",
    "10 \\times \\frac{1}{2} = \\frac{10}{1} \\times \\frac{1}{2} = \\frac{10}{2} = 5.\n",
    "$$\n",
    "\n",
    "This is known as the *multiplicative inverse* of a number. Formally, the inverse is whatever number can be multiplied by the original number to make 1. For instance, the multiplicative inverse of 2 is $\\frac{1}{2}$ because $2 \\times \\frac{1}{2} = 1$. This is written as\n",
    "\n",
    "$$\n",
    "2^{-1} = \\frac{1}{2}\n",
    "$$\n",
    "\n",
    "This is important because there is no definition of division for matrices. However, we know there is multiplication. As such, we perform division by multiplying one matrix by the *inverse* of another.\n",
    "\n",
    "So what is the *inverse* of a matrix? Like a regular number, it is a matrix that, when multiplied by the original matrix, equals the matrix equivalent of the number 1. So what is the matrix equivalent of the number 1? This is a special matrix called the *identity* matrix that contains 1's on the diagonal and 0's everywhere else.\n",
    "\n",
    "$$\n",
    "\\mathbf{I} = \n",
    "\\begin{bmatrix}\n",
    "    1 & 0 & \\dots & 0 \\\\\n",
    "    0 & 1 & \\dots & 0 \\\\\n",
    "    \\vdots & \\vdots & \\ddots & \\vdots \\\\\n",
    "    0 & 0 & \\dots & 1\n",
    "\\end{bmatrix}\n",
    "$$\n",
    "\n",
    "If you multiply any matrix by the identity matrix, it does not change and hence is equivalent to the number 1. You can try this yourself in MATLAB using the `eye(n)` function to create an $n \\times n$ identity matrix"
   ]
  },
  {
   "cell_type": "code",
   "execution_count": 51,
   "id": "a8984701-1624-43b7-a992-da3eddaf9a57",
   "metadata": {},
   "outputs": [
    {
     "data": {
      "text/html": [
       "<html><body><pre>I = 3×3 double\n",
       "     1     0     0\n",
       "     0     1     0\n",
       "     0     0     1\n",
       "</pre></body></html>"
      ],
      "text/plain": [
       "I = 3×3 double\n",
       "     1     0     0\n",
       "     0     1     0\n",
       "     0     0     1\n"
      ]
     },
     "execution_count": 51,
     "metadata": {},
     "output_type": "execute_result"
    }
   ],
   "source": [
    "I = eye(3)"
   ]
  },
  {
   "cell_type": "code",
   "execution_count": 52,
   "id": "06c6dfc4-82cd-46de-b2cc-995f7a264aa5",
   "metadata": {},
   "outputs": [
    {
     "data": {
      "text/html": [
       "<html><body><pre>ans = 3×3 double\n",
       "     1     2     3\n",
       "     4     5     6\n",
       "     7     8     9\n",
       "</pre></body></html>"
      ],
      "text/plain": [
       "ans = 3×3 double\n",
       "     1     2     3\n",
       "     4     5     6\n",
       "     7     8     9\n"
      ]
     },
     "execution_count": 52,
     "metadata": {},
     "output_type": "execute_result"
    }
   ],
   "source": [
    "A = [1 2 3; 4 5 6; 7 8 9];\n",
    "A * I"
   ]
  },
  {
   "cell_type": "markdown",
   "id": "4b8ce9cd-dcc1-43f1-849f-8327a7a890ec",
   "metadata": {},
   "source": [
    "The definition of the inverse of the matrix $\\mathbf{A}$ is therefore the matrix that satisfies\n",
    "\n",
    "$$\n",
    "\\mathbf{A}\\mathbf{A}^{-1} = \\mathbf{I}.\n",
    "$$\n",
    "\n",
    "For example\n",
    "\n",
    "$$\n",
    "\\mathbf{A} = \n",
    "\\begin{bmatrix}\n",
    "    4 & 7 \\\\\n",
    "    2 & 6\n",
    "\\end{bmatrix} \\quad\n",
    "\\mathbf{A}^{-1} = \n",
    "\\begin{bmatrix}\n",
    "    \\phantom{-}0.6 & -0.7 \\\\\n",
    "    -0.2           & \\phantom{-}0.4\n",
    "\\end{bmatrix},\n",
    "$$\n",
    "\n",
    "because\n",
    "\n",
    "$$\n",
    "\\begin{bmatrix}\n",
    "    4 & 7 \\\\\n",
    "    2 & 6\n",
    "\\end{bmatrix} \\times\n",
    "\\begin{bmatrix}\n",
    "    \\phantom{-}0.6 & -0.7 \\\\\n",
    "    -0.2           & \\phantom{-}0.4\n",
    "\\end{bmatrix} = \n",
    "\\begin{bmatrix}\n",
    "    1 & 0 \\\\\n",
    "    0 & 1\n",
    "\\end{bmatrix}\n",
    "$$\n",
    "\n",
    "In terms of finding an inverse, there are a multitude of algorithms available. However, we usually just trust `MATLAB` to do the right thing when we use the `inv()` function. For instance,"
   ]
  },
  {
   "cell_type": "code",
   "execution_count": 54,
   "id": "62ad1da4-4789-440c-84e6-1a8a60242b36",
   "metadata": {},
   "outputs": [
    {
     "data": {
      "text/html": [
       "<html><body><pre>A = 2×2 double\n",
       "     4     7\n",
       "     2     6\n",
       "</pre></body></html>"
      ],
      "text/plain": [
       "A = 2×2 double\n",
       "     4     7\n",
       "     2     6\n"
      ]
     },
     "execution_count": 54,
     "metadata": {},
     "output_type": "execute_result"
    }
   ],
   "source": [
    "A = [4 7; 2 6]"
   ]
  },
  {
   "cell_type": "code",
   "execution_count": 55,
   "id": "83f5e5ac-2aa5-43ac-b3de-16b93b933a10",
   "metadata": {},
   "outputs": [
    {
     "data": {
      "text/html": [
       "<html><body><pre>ans = 2×2 double\n",
       "    0.6000   -0.7000\n",
       "   -0.2000    0.4000\n",
       "</pre></body></html>"
      ],
      "text/plain": [
       "ans = 2×2 double\n",
       "    0.6000   -0.7000\n",
       "   -0.2000    0.4000\n"
      ]
     },
     "execution_count": 55,
     "metadata": {},
     "output_type": "execute_result"
    }
   ],
   "source": [
    "inv(A)"
   ]
  },
  {
   "cell_type": "code",
   "execution_count": 56,
   "id": "8f6edb6e-ebb7-4881-973d-398038517c85",
   "metadata": {},
   "outputs": [
    {
     "data": {
      "text/html": [
       "<html><body><pre>ans = 2×2 double\n",
       "    1.0000         0\n",
       "         0    1.0000\n",
       "</pre></body></html>"
      ],
      "text/plain": [
       "ans = 2×2 double\n",
       "    1.0000         0\n",
       "         0    1.0000\n"
      ]
     },
     "execution_count": 56,
     "metadata": {},
     "output_type": "execute_result"
    }
   ],
   "source": [
    "A * inv(A)"
   ]
  },
  {
   "cell_type": "markdown",
   "id": "836effd0-6309-48ab-8eca-7ec3914ed866",
   "metadata": {},
   "source": [
    "The key thing we need to understand is that there are restrictions on finding an inverse. Firstly, a matrix must be *square* to be invertible. Secondly, even if it is square, not every matrix has an inverse. As such, some matrices are *fundamentally uninvertible*. As an example"
   ]
  },
  {
   "cell_type": "code",
   "execution_count": 58,
   "id": "d81bc230-ba0e-4aa8-94f8-48f9cf6c2306",
   "metadata": {},
   "outputs": [
    {
     "name": "stderr",
     "output_type": "stream",
     "text": [
      "Warning: Matrix is close to singular or badly scaled. Results may be inaccurate. RCOND =  4.111937e-18."
     ]
    }
   ],
   "source": [
    "A = [1 2 3; 3 3 6; 7 2 9];\n",
    "inv(A);"
   ]
  },
  {
   "cell_type": "markdown",
   "id": "1a36219a-d204-4341-9cb9-ec6a31c658e1",
   "metadata": {},
   "source": [
    "The reasons why this happens are beyond the scope of this lesson, but just know that in some cases we will not always be able to find a solution to an equation that contains a matrix inverse. We will see this more later in the course, but for now just known that matrix division is *tricky* and can get us in trouble if we are not careful."
   ]
  },
  {
   "cell_type": "markdown",
   "id": "95e431b5-8c5a-42b7-9402-ee6e6178096a",
   "metadata": {},
   "source": [
    "## Element-wise Operations\n",
    "In the discussion above, you may have intuitively thought that both multiplication and division would be equivalent to addition and subtraction, in the sense that we could take two matrices of the same dimensions and either multiply or divide the individual elements. Although this is not the formal definition of either matrix multiplication or division, we can do this in `MATLAB` using *element-wise* operations. These are usually distinguished in code by using a `.` before the operation symbol.\n",
    "\n",
    "As an example, if we wanted to multiply the individual elements of two matrices we can use `.*` instead of `*`"
   ]
  },
  {
   "cell_type": "code",
   "execution_count": 61,
   "id": "0dc1ffbb-e21d-4a39-9d93-04a63551318c",
   "metadata": {},
   "outputs": [
    {
     "data": {
      "text/html": [
       "<html><body><pre>C = 2×3 double\n",
       "     7    16    27\n",
       "    40    55    72\n",
       "</pre></body></html>"
      ],
      "text/plain": [
       "C = 2×3 double\n",
       "     7    16    27\n",
       "    40    55    72\n"
      ]
     },
     "execution_count": 61,
     "metadata": {},
     "output_type": "execute_result"
    }
   ],
   "source": [
    "A = [1 2 3; 4  5  6];\n",
    "B = [7 8 9; 10 11 12];\n",
    "C = A .* B"
   ]
  },
  {
   "cell_type": "markdown",
   "id": "9b3bda07-c963-4ef0-b2f4-562dd85a1e06",
   "metadata": {},
   "source": [
    "Similarly, to divide the elements we can use `./` instead of `/`"
   ]
  },
  {
   "cell_type": "code",
   "execution_count": 63,
   "id": "39ffc22d-ea03-47af-a092-0817e0312465",
   "metadata": {},
   "outputs": [
    {
     "data": {
      "text/html": [
       "<html><body><pre>C = 2×3 double\n",
       "    0.1429    0.2500    0.3333\n",
       "    0.4000    0.4545    0.5000\n",
       "</pre></body></html>"
      ],
      "text/plain": [
       "C = 2×3 double\n",
       "    0.1429    0.2500    0.3333\n",
       "    0.4000    0.4545    0.5000\n"
      ]
     },
     "execution_count": 63,
     "metadata": {},
     "output_type": "execute_result"
    }
   ],
   "source": [
    "A = [1 2 3; 4  5  6];\n",
    "B = [7 8 9; 10 11 12];\n",
    "C = A ./ B"
   ]
  },
  {
   "cell_type": "markdown",
   "id": "caaf247f-73ae-4a15-9403-7fc7cf02a00c",
   "metadata": {},
   "source": [
    "We will see how these element-wise operators can be very useful when working with imaging data, where the images themselves are respresented as matrices inside `MATLAB`."
   ]
  }
 ],
 "metadata": {
  "kernelspec": {
   "display_name": "MATLAB Kernel",
   "language": "matlab",
   "name": "jupyter_matlab_kernel"
  },
  "language_info": {
   "file_extension": ".m",
   "mimetype": "text/x-matlab",
   "name": "matlab"
  }
 },
 "nbformat": 4,
 "nbformat_minor": 5
}