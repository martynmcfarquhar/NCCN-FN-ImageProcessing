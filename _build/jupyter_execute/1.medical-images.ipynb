{
 "cells": [
  {
   "cell_type": "markdown",
   "id": "8a6b3fd6-1753-45e7-a920-fccf68cbdcac",
   "metadata": {},
   "source": [
    "# Understanding Medical Images\n",
    "As mentioned in the overview, there are three main computational tools we rely on for this course. The first is the MATLAB computing environment, the second is the Statistical Parametric Mapping (SPM) analysis software, and the third is the branch of mathematics known as linear algebra. Before discussing any of these topics in detail, it is useful to contextualise their utility for analysing brain images in order to motivate this lesson. As such, we are going to spend a little bit of time making sure we understand what a medical image actually is and how it is represented in a computer.\n",
    "\n",
    "## What is an Image?\n",
    "Put simply, a digital image is an array of numbers that correspond to spatial locations. The elements of this array can be visualised by a computer by assigning each number a colour. For traditional digital images, the array is two-dimensional and each element is called a *picture-element* (pixel). These types of image contain three values for each pixel, corresponding to the colours <span style=\"color:red\">**red**</span>, <span style=\"color:green\">**green**</span> and <span style=\"color:blue\">**blue**</span>. Each pixel can therefore represent any colour within the [RGB colour model](https://en.wikipedia.org/wiki/RGB_color_model). Medical images, by comparison, are generally a bit simpler. A standard structural MR image, for example, is a three-dimensional array where each element contains only a single value representing the magnitude of the signal captured at that location. This can be thought of as a stack of 2D images (like a pack of playing cards), where each individual 2D image is known as a *slice*. Because these images are constructed from *cubes* rather than *squares*, each element is called a *volume-element* (voxel). To make this clear, {numref}`voxel-render-fig` shows a rendering of a scan designed to make the voxel structure visible.\n",
    "\n",
    "```{figure} images/voxel-render-dark.png\n",
    "---\n",
    "width: 800px\n",
    "name: voxel-render-fig\n",
    "---\n",
    "Illustration of the voxel structure of a brain image.\n",
    "```\n",
    "\n",
    "Because medical images contain values of signal magnitudes rather than colour, an additional step is needed in order to visualise them. To draw an image on the screen, the computer needs to associate each voxel value with a colour. This is a process known as *colour mapping*, where the range of values in the image are associated with a pre-selected range of colours (known as a colour map). Typically, this is done by associating small numbers with dark colours and large numbers with bright colours. There are a variety of different colour maps that are used in neuroimaging. For instance, structural MR images traditionally use a *greyscale* map, whereas results from fMRI experiments are often shown using a *hot* colour map. To indicate how this mapping has been performed, displays of medical images will often include a *colour bar*, which is a visual representation of how the range of voxel values has been associated with the range of colours. These concepts are illustrated in {numref}`camera-medical-fig`.\n",
    "\n",
    "```{figure} images/camera-medical-dark.png\n",
    "---\n",
    "width: 800px\n",
    "name: camera-medical-fig\n",
    "---\n",
    "Comparison between an image produced with a digital camera and a brain image.\n",
    "```\n",
    "\n",
    "The important point is that visual display is a *primary feature* of a traditional digital image, as the only information contained in the image is colour information. For a medical image, visual display can be considered a *secondary feature*, as the main information the image contains is not colour but *magnitude* of a biological signal. As such, it is important to remember that when it comes to analysing brain images, our primary interest is often the numbers inside the image and not necessarily what the image looks like. In that sense, we can more accurately think of medical images as maps of signal intensity, as shown in {numref}`image-intensities-fig`.\n",
    "\n",
    "```{figure} images/image-intensities-dark.png\n",
    "---\n",
    "width: 800px\n",
    "name: image-intensities-fig\n",
    "---\n",
    "Illustration of how a brain image can be conceptualised as a map of signal intensity.\n",
    "```"
   ]
  },
  {
   "cell_type": "markdown",
   "id": "f49b0146-a5a2-4008-9f32-554f00629246",
   "metadata": {},
   "source": [
    "## Working with Images in a Computer\n",
    "As explained above, a medical image is simply an array of numbers. This is all that a computer understands when an image is loaded into memory. The fact that this array can be visualised to represent a physical object is inconsequential, as far as the computer is concerned. Throughout this course, our basic aim is to take these arrays of numbers and do things that changes those numbers into different numbers. The hope is that these new numbers can be used to tell us something meaningful about the real-life object represented in the image. Our images start out as meaningful representations of a brain. Throughout all the processing steps, we have to make sure that this is retained in order for our images to have any utility as scientific data.\n",
    "\n",
    "In order to interact with and manipulate images we need a suitable computing environment that allows access to individual voxel values. In this course, we will be using `MATLAB` for this purpose. Usually we will not be doing this directly through `MATLAB` code, but rather indirectly using the methods implemented in the `SPM` software. `SPM` is written using the `MATLAB` language and as such leverages many of the core linear algebra tools that `MATLAB` contains. Because of this, understanding `MATLAB` and `SPM` also requires some understanding of linear algebra itself. With this in mind, the main aim of this lesson is to start creating some familiarity with each of these topics. It is not expected that you will have mastery by the end of this lesson, but what you should have is some understanding of what `MATLAB` and `SPM` are, some familiarity with basic `MATLAB` programming and some familiarity with basic linear algebra concepts. "
   ]
  }
 ],
 "metadata": {
  "kernelspec": {
   "display_name": "MATLAB Kernel",
   "language": "matlab",
   "name": "jupyter_matlab_kernel"
  },
  "language_info": {
   "file_extension": ".m",
   "mimetype": "text/x-matlab",
   "name": "matlab"
  }
 },
 "nbformat": 4,
 "nbformat_minor": 5
}