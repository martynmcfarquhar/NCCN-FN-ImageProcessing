{
 "cells": [
  {
   "cell_type": "markdown",
   "id": "a088b088-65b3-4ede-a398-1bb5357f45b8",
   "metadata": {},
   "source": [
    "# Introduction\n",
    "In the previous lesson, we introduced some of the core tools you will need on this course. In this lesson, we are going to start using these tools to understand the principles behind *image processing*. We will discuss two general classes of image processing in the form of *spatial transformations* and *image filtering*. Both of these types of processing involve the manipulation of voxel values, but generally they have different aims. Spatial transformations work to move the brain around in different spaces, whereas filtering involves changing the signal that underlies an image. Alongside these main topics, this lesson will introduce some key concepts that we will see in many different contexts throughout this course such as *interpolation* and *convolution*.\n",
    "\n",
    "## Contents\n",
    "```{tableofcontents}\n",
    "```\n",
    "\n",
    "## About the Author\n",
    "\n",
    "```{figure} images/martyn.jpeg\n",
    "---\n",
    "scale: 15%\n",
    "align: right\n",
    "---\n",
    "```\n",
    "\n",
    "**Dr Martyn McFarquhar | PhD FHEA**\n",
    "\n",
    "Lecturer in Neuroimaging\n",
    "\n",
    "[4.31 Booth Street East Building](https://www.manchester.ac.uk/about/maps/interactive-map/?id=23) | Division of Psychology, Communication and Human Neuroscience | School of Health Sciences | The University of Manchester M13 9PL\n",
    "\n",
    "t: +44 (0)161 275 2688 | e: [martyn.mcfarquhar@manchester.ac.uk](mailto:martyn.mcfarquhar@manchester.ac.uk)"
   ]
  },
  {
   "cell_type": "code",
   "execution_count": null,
   "id": "c6a5313b-2bea-4aa6-90bf-993adb171f64",
   "metadata": {},
   "outputs": [],
   "source": []
  }
 ],
 "metadata": {
  "kernelspec": {
   "display_name": "MATLAB Kernel",
   "language": "matlab",
   "name": "jupyter_matlab_kernel"
  },
  "language_info": {
   "file_extension": ".m",
   "mimetype": "text/x-matlab",
   "name": "matlab"
  }
 },
 "nbformat": 4,
 "nbformat_minor": 5
}