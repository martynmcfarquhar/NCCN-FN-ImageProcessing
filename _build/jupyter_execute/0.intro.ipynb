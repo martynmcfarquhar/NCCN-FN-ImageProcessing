{
 "cells": [
  {
   "cell_type": "markdown",
   "id": "a088b088-65b3-4ede-a398-1bb5357f45b8",
   "metadata": {},
   "source": [
    "# Introduction\n",
    "One of the harder aspects of neuroimaging as a field is that it draws from a wide variety of knowledge areas. Because of this, neuroimaging can come across as difficult, when the reality is that it is conceptually dense. In other words, there are many concepts, principles and skills that are needed which, by themselves, are not necessarily that hard, but which together can appear overwhelming. Part of your challenge this year will be getting to grips with these concepts and skills as quickly as you can. Generally, the best way to do this is to make sure you have a solid grounding in the foundational topics that many of these concepts are based upon. As such, this lesson is all about the key computational tools that you will need going forward on the course. These include MATLAB and the MATLAB programming language, the Statistical Parametric Mapping software and key concepts from the world of linear algebra. Some of these topics may be brand new and, as such, may take some time to sink in. Irrespective of your current knowledge level, make sure you work through this lesson carefully and try to get as familiar as you can with the presented material. This will pay dividends once we start seeing these ideas in context as the course progresses.\n",
    "\n",
    "## Contents\n",
    "```{tableofcontents}\n",
    "```\n",
    "\n",
    "## About the Author\n",
    "\n",
    "```{figure} images/martyn.jpeg\n",
    "---\n",
    "scale: 15%\n",
    "align: right\n",
    "---\n",
    "```\n",
    "\n",
    "**Dr Martyn McFarquhar | PhD FHEA**\n",
    "\n",
    "Lecturer in Neuroimaging\n",
    "\n",
    "[4.31 Booth Street East Building](https://www.manchester.ac.uk/about/maps/interactive-map/?id=23) | Division of Psychology, Communication and Human Neuroscience | School of Health Sciences | The University of Manchester M13 9PL\n",
    "\n",
    "t: +44 (0)161 275 2688 | e: [martyn.mcfarquhar@manchester.ac.uk](mailto:martyn.mcfarquhar@manchester.ac.uk)"
   ]
  },
  {
   "cell_type": "code",
   "execution_count": null,
   "id": "34ac0647-ed49-4148-8bc8-18b7be74e561",
   "metadata": {},
   "outputs": [],
   "source": []
  }
 ],
 "metadata": {
  "kernelspec": {
   "display_name": "MATLAB Kernel",
   "language": "matlab",
   "name": "jupyter_matlab_kernel"
  },
  "language_info": {
   "file_extension": ".m",
   "mimetype": "text/x-matlab",
   "name": "matlab"
  }
 },
 "nbformat": 4,
 "nbformat_minor": 5
}