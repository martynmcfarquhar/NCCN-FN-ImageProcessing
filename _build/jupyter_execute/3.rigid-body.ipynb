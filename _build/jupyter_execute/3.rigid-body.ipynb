{
 "cells": [
  {
   "cell_type": "markdown",
   "id": "d79698dc-62e1-4f1a-9baf-ff41b3ead17d",
   "metadata": {
    "editable": true,
    "slideshow": {
     "slide_type": ""
    },
    "tags": []
   },
   "source": [
    "# Rigid-body Transformations\n",
    "\n",
    "In the previous section, we introduced the idea of two different coordinates systems we can use when working with images. In order to use both systems, we need to be able to convert between them. So, we need to be able to take voxel coordinates and convert them into millimetres, as well as take millimetre coordinates and convert them into voxels.\n",
    "\n",
    "Very generally, the ability to transform coordinates from one system into another can be expressed as\n",
    "\n",
    "$$\n",
    "\\begin{align}\n",
    "    b_x &= m_{11}a_x + m_{12}a_y + m_{13}a_z + m_{14} \\\\\n",
    "    b_y &= m_{21}a_x + m_{22}a_y + m_{23}a_z + m_{24} \\\\\n",
    "    b_z &= m_{31}a_x + m_{32}a_y + m_{33}a_z + m_{34} \n",
    "\\end{align}\n",
    "$$\n",
    "\n",
    "where $a_x$, $a_y$, $a_z$ represent the original coordinates and $b_x$, $b_y$, $b_z$ represent the transformed coordinates. You might recognise each new coordinate as a *linear combination* of the old coordinates and some values called $m$. You might also recognise that this is therefore a system of 3 linear equations, which can be represented using matrices. As such, we can compactly represent this transformation in the form $\\mathbf{B} = \\mathbf{MA}$, which we can expand to\n",
    "\n",
    "$$\n",
    "\\begin{bmatrix}\n",
    "    b_x \\\\\n",
    "    b_y \\\\\n",
    "    b_z \\\\\n",
    "    1\n",
    "\\end{bmatrix}\n",
    "=\n",
    "\\begin{bmatrix}\n",
    "    m_{11} & m_{12} & m_{13} & m_{14} \\\\\n",
    "    m_{21} & m_{22} & m_{23} & m_{24} \\\\\n",
    "    m_{31} & m_{32} & m_{33} & m_{34} \\\\\n",
    "    0 & 0 & 0 & 1\n",
    "\\end{bmatrix}\n",
    "\\begin{bmatrix}\n",
    "    a_x \\\\\n",
    "    a_y \\\\\n",
    "    a_z \\\\\n",
    "    1\n",
    "\\end{bmatrix}\n",
    "$$\n",
    "\n",
    "where the matrix $\\mathbf{M}$ contains the 12 parameters of the transformation (noticing that we have to add an extra row to make the matrix multiplication work). Multiplying a vector containing our original coordinates by $\\mathbf{M}$ will give us the coordinates transformed into the alternative space. We can also use $\\mathbf{M}^{-1}$ to convert from the transformed coordinates back into the original coordinates using $\\mathbf{A} = \\mathbf{M}^{-1}\\mathbf{B}$. "
   ]
  },
  {
   "cell_type": "markdown",
   "id": "f12309f3-46ab-46d7-91dd-764b1985de65",
   "metadata": {},
   "source": [
    "## Affine Transformations\n",
    "The parameters in the matrix $\\mathbf{M}$ encode what is known as an *affine* transformation. The word affine means that parallel lines remain parallel after transformation. As such, operations such as bending are not allowed. Transformation can therefore only be constructed by combining:\n",
    "\n",
    "- Translations\n",
    "- Rotations\n",
    "- Zooming/Scaling\n",
    "- Shearing\n",
    "\n",
    "Examples of each of these operations are shown in {numref}``\n",
    "\n",
    "To really cement the ideas of affine transformations, you can play around with the example below. Move the sliders to change the transformation matrix, which is then used to change the coordinates of every pixel in the image."
   ]
  },
  {
   "cell_type": "markdown",
   "id": "b5f790af-0419-4bd0-b27c-044c367d0cf4",
   "metadata": {},
   "source": [
    "<iframe scrolling=\"no\" title=\"AffineTransform2D\" src=\"https://www.geogebra.org/material/iframe/id/jyskrsgy/width/800/height/800/border/888888/sfsb/true/smb/false/stb/false/stbh/false/ai/false/asb/false/sri/false/rc/false/ld/false/sdz/false/ctl/false\" width=\"800px\" height=\"800px\" style=\"border:0px;\"> </iframe>"
   ]
  },
  {
   "cell_type": "markdown",
   "id": "c3923c4e-694e-4839-a085-ca4b8035242a",
   "metadata": {},
   "source": [
    "## Converting Voxel-space to World-space\n",
    "\n",
    "Now that we have seen how affine transformations work, we can get back to the idea of converting between voxel-space and world-space. The key thing to understand is that this conversion is just an affine transformation, consisting of translating, rotating and scaling the axes so they represent millimetres instead of voxels. This process is illustrated in {numref}``."
   ]
  }
 ],
 "metadata": {
  "kernelspec": {
   "display_name": "MATLAB Kernel",
   "language": "matlab",
   "name": "jupyter_matlab_kernel"
  },
  "language_info": {
   "file_extension": ".m",
   "mimetype": "text/x-matlab",
   "name": "matlab"
  }
 },
 "nbformat": 4,
 "nbformat_minor": 5
}