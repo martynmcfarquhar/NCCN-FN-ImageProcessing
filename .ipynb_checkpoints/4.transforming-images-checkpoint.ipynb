{
 "cells": [
  {
   "cell_type": "markdown",
   "id": "bdc5a501-8d0c-44e8-82bb-4a5e08e60c08",
   "metadata": {},
   "source": [
    "# Transforming Images\n",
    "In the previous section, we discussed the principles of affine and rigid-body transformations and saw how converting between voxel-space and world-space can be conceptualised as an affine transformation of the image coordinates. However, the utility of these forms of transforms is not just moving between different spaces, but also in providing a framework for transforming the location of the brain within an image. Generally, we have two choices when transforming an image. We either transform the image in *world-space*, or we transform the image in *voxel-space*.\n",
    "\n",
    "## Transforming an Image in World-space\n",
    "One of the main uses of a world-space representation is to create transformations for moving the brain within an image. Generally speaking, transformations in world-space make more sense because we can use real-world units. For instance, we can move the brain back by 3mm and up by 5mm. To do this, we have to combine the $\\mathbf{M}$ matrix from the header with another affine transform matrix $\\mathbf{T}$. If we use the following as our example $\\mathbf{M}$ matrix\n",
    "\n",
    "$$\n",
    "\\mathbf{M} = \n",
    "\\begin{bmatrix}\n",
    "-3 & 0 & 0 &  81  \\\\ \n",
    " 0 & 3 & 0 & -115 \\\\ \n",
    " 0 & 0 & 3 & -73  \\\\\n",
    " 0 & 0 & 0 &  1\n",
    "\\end{bmatrix}\n",
    "$$\n",
    "\n",
    "we can see the original millimetre location of the voxel coordinates $\\mathbf{a} = [20, 20, 20, 1]'$ is given by\n",
    "\n",
    "$$\n",
    "\\mathbf{Ma} = \n",
    "\\begin{bmatrix} \n",
    " 21 \\\\\n",
    "-55 \\\\ \n",
    "-13 \\\\\n",
    "1 \n",
    "\\end{bmatrix}\n",
    "$$\n",
    "\n",
    "Focusing on the $y$-axis, the voxel index of 20 is mapped to -55mm from the origin in world-space. If we wanted to move the image 9mm *backwards*, we could combine $\\mathbf{M}$ with a transformation matrix $\\mathbf{T}$ that encodes a negative 9mm shift along the $y$-axis\n",
    "\n",
    "$$\n",
    "\\mathbf{T} = \n",
    "\\begin{bmatrix}\n",
    " 1 & 0 & 0 &  0 \\\\ \n",
    " 0 & 1 & 0 & -9 \\\\ \n",
    " 0 & 0 & 1 &  0 \\\\\n",
    " 0 & 0 & 0 &  1\n",
    "\\end{bmatrix}\n",
    "$$\n",
    "\n",
    "Pre-multiplying $\\mathbf{M}$ by $\\mathbf{T}$ creates a new matrix that changes how the voxel coordinates are mapped into world-space. So, if we do the following\n",
    "\n",
    "$$\n",
    "\\left(\\mathbf{TM}\\right)\\mathbf{a} = \n",
    "\\begin{bmatrix} \n",
    " 21 \\\\\n",
    "-64 \\\\ \n",
    "-13 \\\\\n",
    "1 \n",
    "\\end{bmatrix}\n",
    "$$\n",
    "\n",
    "we can see that the voxel coordinate of $y = 20$ is now mapped to -64mm from the origin, shifting it 9mm further *backwards*. If we want to make this shift permanent, we can create a new matrix $\\mathbf{M}^{\\ast} = \\mathbf{TM}$ and then replace the original $\\mathbf{M}$ matrix in the header with $\\mathbf{M}^{\\ast}$. The image is then forever mapped 9mm further backwards in world-space.\n",
    "\n",
    "An important point about this process is that it has *not* altered the voxel data. All we did is change how the voxels coordinates are mapped to millimetre coordinates. In effect, we have changed the rules, but have not done anything to the actual image. Because of this, the image will look no different in voxel-space, but will be moved back 9mm in world-space. This change is somewhat invisible because it will not look like the image has been altered. You would only notice a difference if you saw the image displayed in world-space *and* had some reference point to compare it with. Typically this reference point is another image, as the point of world-space transforms is often to bring multiple images into alignment without changing the voxel data. This will make more sense next week when we discuss image registration. For now, just try to grasp the idea of world-space transformations, knowing that this will be further contextualised later."
   ]
  },
  {
   "cell_type": "markdown",
   "id": "16bc386e-2cc9-40ba-bfba-db598708b908",
   "metadata": {},
   "source": [
    "## Transforming an Image in Voxel-space"
   ]
  }
 ],
 "metadata": {
  "kernelspec": {
   "display_name": "MATLAB Kernel",
   "language": "matlab",
   "name": "jupyter_matlab_kernel"
  },
  "language_info": {
   "file_extension": ".m",
   "mimetype": "text/x-matlab",
   "name": "matlab"
  }
 },
 "nbformat": 4,
 "nbformat_minor": 5
}
