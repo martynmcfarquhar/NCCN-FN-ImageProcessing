{
 "cells": [
  {
   "cell_type": "markdown",
   "id": "1a5e4fcb-4335-4572-b466-59d6841c83d6",
   "metadata": {},
   "source": [
    "# Voxel-space and World-space\n",
    "\n",
    "In the first part of this lesson we are going to be focusing on *spatial transformations*. We will spend more time discussing this form of image processing as spatial methods are relevant to a much wider variety of analysis steps. Spatial transformations are also where more errors will occur, and so warrant more of our attention.\n",
    "\n",
    "## Data matrix indices\n",
    "\n",
    "We can conceptualise an MRI image as a 3D matrix (like a big cube), where we can refer to any voxel within the cube using an index along each dimension. Typically we refer to these dimensions as $x$, $y$ and $z$, where $x$ corresponds to the *row*, $y$ corresponds to the *column* and $z$ corresponds to the *slice*. An index into an image is therefore a *triplet* of values that indicates how far along each of the dimensions we need to travel in order to find the value we want. \n",
    "\n",
    "As an example, the `MATLAB` code below shows the process of loading an image (which you can download from [here](https://livemanchesterac.sharepoint.com/:u:/r/sites/UOM-FBMH-MSc-NCCN/Shared%20Documents/PCHN62141%20Functional%20Neuroanatomy/Learning%20Materials/Asynchronous/Week%204/2.%20Image%20Processing/Data/example_image.nii?csf=1&web=1&e=Haernk&download=1)) and then extracting a value using the voxel coordinates $x = 180$, $y = 180$ and $z = 110$. This tells `MATLAB` that we want to travel $180$ voxels along the $x$ dimension, $180$ voxels along the $y$ dimension, $110$ voxels along the $z$ dimension and then extract the value found at that location."
   ]
  },
  {
   "cell_type": "code",
   "execution_count": 35,
   "id": "50b1bf0f-bafc-42f2-88d9-002980aedc22",
   "metadata": {},
   "outputs": [
    {
     "data": {
      "text/html": [
       "<html><body><pre>voxel = 347.0026</pre></body></html>"
      ],
      "text/plain": [
       "voxel = 347.0026"
      ]
     },
     "execution_count": 35,
     "metadata": {},
     "output_type": "execute_result"
    }
   ],
   "source": [
    "image = spm_data_read('example_image.nii');\n",
    "voxel = image(180,180,110)"
   ]
  },
  {
   "cell_type": "markdown",
   "id": "52a01d6d-c4c4-4145-9644-28a8ca0a58b6",
   "metadata": {},
   "source": [
    "Alternatively, we can think of the image more like a stack of cards, where we first extract the matrix at slice $110$"
   ]
  },
  {
   "cell_type": "code",
   "execution_count": 38,
   "id": "8d8729c2-8900-4d18-9a67-0542d3be7adf",
   "metadata": {},
   "outputs": [],
   "source": [
    "slice = image(:,:,110);"
   ]
  },
  {
   "cell_type": "markdown",
   "id": "8a1d93c1-a805-45e1-8c5e-118813a91bc2",
   "metadata": {},
   "source": [
    "and then find the value at row $180$ and column $180$"
   ]
  },
  {
   "cell_type": "code",
   "execution_count": 41,
   "id": "037af5f7-f2a6-4f02-9293-a5449f7168ef",
   "metadata": {},
   "outputs": [
    {
     "data": {
      "text/html": [
       "<html><body><pre>ans = 347.0026</pre></body></html>"
      ],
      "text/plain": [
       "ans = 347.0026"
      ]
     },
     "execution_count": 41,
     "metadata": {},
     "output_type": "execute_result"
    }
   ],
   "source": [
    "slice(180,180)"
   ]
  }
 ],
 "metadata": {
  "kernelspec": {
   "display_name": "MATLAB Kernel",
   "language": "matlab",
   "name": "jupyter_matlab_kernel"
  },
  "language_info": {
   "file_extension": ".m",
   "mimetype": "text/x-matlab",
   "name": "matlab"
  }
 },
 "nbformat": 4,
 "nbformat_minor": 5
}
