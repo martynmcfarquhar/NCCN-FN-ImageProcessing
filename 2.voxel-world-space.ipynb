{
 "cells": [
  {
   "cell_type": "markdown",
   "id": "1a5e4fcb-4335-4572-b466-59d6841c83d6",
   "metadata": {},
   "source": [
    "# Voxel-space and World-space\n"
   ]
  },
  {
   "cell_type": "markdown",
   "id": "4b7c1d15-f21a-49d7-8f18-54bcd2e5be58",
   "metadata": {
    "editable": true,
    "slideshow": {
     "slide_type": ""
    },
    "tags": []
   },
   "source": [
    "<iframe src=\"comp_tools_anat1.html\" width=\"800\" height=\"600\" frameborder=\"0\" scrolling=\"no\" title=\"\"></iframe>"
   ]
  },
  {
   "cell_type": "markdown",
   "id": "1fccb0e2-18f3-497d-8e9c-dfc7299eae4b",
   "metadata": {
    "editable": true,
    "slideshow": {
     "slide_type": ""
    },
    "tags": []
   },
   "source": [
    "<div style=\"max-width: 1280px\"><div style=\"position: relative; padding-bottom: 56.25%; height: 0; overflow: hidden;\"><iframe src=\"https://livemanchesterac.sharepoint.com/sites/UOM-FBMH-MSc-NCCN/_layouts/15/embed.aspx?UniqueId=beb58db0-1be9-4adf-823a-d2b0ba634189&embed=%7B%22hvm%22%3Atrue%2C%22ust%22%3Atrue%7D&referrer=StreamWebApp&referrerScenario=EmbedDialog.Create\" width=\"1280\" height=\"720\" frameborder=\"0\" scrolling=\"no\" allowfullscreen title=\"setting-up-SPM-2024.mov\" style=\"border:none; position: absolute; top: 0; left: 0; right: 0; bottom: 0; height: 100%; max-width: 100%;\"></iframe></div></div>"
   ]
  },
  {
   "cell_type": "markdown",
   "id": "e9f1c321-a0aa-4e80-b519-307110e36805",
   "metadata": {
    "editable": true,
    "slideshow": {
     "slide_type": ""
    },
    "tags": []
   },
   "source": [
    "### Resolving Errors on macOS\n",
    "For anyone installing `SPM` on macOS, there are some additional steps that will be required before the software will function. If you try and launch `SPM`, you will get errors pertaining to the bundled MEX files. The issue is that the macOS security system is rather over-zealous and will have quarantined the MEX files on the off-chance that they contain malicious code. In order to resolve this, we have to un-quarantine those files. Unfortunately, Apple do not want to make it too easy to bypass their security systems, so the only way to do this is to type some commands into the macOS Terminal. \n",
    "\n",
    "To begin with, you need to open the Terminal application. It can be found inside `Applications > Utilities`, or you can press <kbd>CMD</kbd> + <kbd>SPACE</kbd> to bring up Spotlight search, and then type `terminal`. Once open, you need to move the current working directory of the terminal to the `spm12` folder. Assuming you installed SPM inside `Documents > MATLAB`, you can use the `cd` command to move there by typing\n",
    "\n",
    "```bash\n",
    "cd ~/Documents/MATLAB/spm12\n",
    "```\n",
    "\n",
    "and hitting <kbd>Enter</kbd>. Then, you need to type (or copy + paste) the following command\n",
    "\n",
    "```bash\n",
    "find . -name \"*.mexmaci64\" -exec xattr -d com.apple.quarantine {} \\;\n",
    "```\n",
    "\n",
    "and hit <kbd>Enter</kbd>. This command will work through the `spm12` directory and un-quarantine all the macOS-specific MEX files. Once it has finished, close the Terminal and then re-open `MATLAB` and try launching `SPM`. With any luck, the errors about MEX files will have disappeared."
   ]
  },
  {
   "cell_type": "markdown",
   "id": "4bfc94a7-f43d-48f1-9b67-5006920adc3d",
   "metadata": {},
   "source": [
    "### Resolving Other Problems\n",
    "If you hit any other problems when trying to get `SPM` to function, one of the first places to look is the [SPM Wiki](https://en.wikibooks.org/wiki/SPM). This is a very useful technical resource with guides on many different aspects of `SPM`, including installation and custom compliation of the MEX files (which hopefully you never have to do!). Another resource is the [SPM JISCM@il](https://www.jiscmail.ac.uk/cgi-bin/webadmin?A0=SPM). This is a question-and-answer forum that both the users and developers of `SPM` frequent to discuss the software. If you are having issues, there is a good chance that someone else may have asked a similar question already on the list. So try searching the archives or creating a new post. If you still cannot resolve the problem on your own, please post on the relevant Blackboard discussion board for the current module. One of the teaching team, or even your fellow students, can respond to try and help."
   ]
  },
  {
   "cell_type": "code",
   "execution_count": null,
   "id": "561abe3b-fb34-4985-a0d7-4b1a13e5d551",
   "metadata": {},
   "outputs": [],
   "source": []
  }
 ],
 "metadata": {
  "kernelspec": {
   "display_name": "MATLAB Kernel",
   "language": "matlab",
   "name": "jupyter_matlab_kernel"
  },
  "language_info": {
   "file_extension": ".m",
   "mimetype": "text/x-matlab",
   "name": "matlab"
  }
 },
 "nbformat": 4,
 "nbformat_minor": 5
}
